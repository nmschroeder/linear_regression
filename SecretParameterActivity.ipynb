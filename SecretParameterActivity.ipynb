{
 "cells": [
  {
   "cell_type": "markdown",
   "metadata": {},
   "source": [
    "# Discussion Week 4 Activity: Find the secret parameters\n",
    "\n"
   ]
  },
  {
   "cell_type": "code",
   "execution_count": 22,
   "metadata": {},
   "outputs": [],
   "source": [
    "import numpy as np\n",
    "import matplotlib.pyplot as py\n"
   ]
  },
  {
   "cell_type": "markdown",
   "metadata": {},
   "source": [
    "## Let's create a simulation where we know the true parameters"
   ]
  },
  {
   "cell_type": "code",
   "execution_count": 49,
   "metadata": {},
   "outputs": [],
   "source": [
    "np.random.seed(1)\n",
    "\n",
    "# How many points should we use?\n",
    "n = 15\n",
    "\n",
    "# What mean and standard deviation to use for the noise?\n",
    "mu = 0\n",
    "sd = 2\n",
    "\n",
    "# Select n points from the uniform distribution between -10 and 10\n",
    "x = np.random.uniform(-10, 10, n)\n",
    "\n",
    "# Select two parameters from the uniform distribution between -5 and 5 to be our\n",
    "# y-intercept and slope\n",
    "m_true = np.random.uniform(-5, 5, 2)\n",
    "\n",
    "# Make some noise\n",
    "#noise = np.random.normal(mu, sd, n)\n",
    "noise = np.random.gumbel(mu, sd, n)\n",
    "\n",
    "# Generate simulated data points\n",
    "y = m_true[0] + m_true[1]*x + noise"
   ]
  },
  {
   "cell_type": "code",
   "execution_count": 50,
   "metadata": {},
   "outputs": [],
   "source": [
    "#help(np.random.uniform)"
   ]
  },
  {
   "cell_type": "markdown",
   "metadata": {},
   "source": [
    "Plotting our mystery function"
   ]
  },
  {
   "cell_type": "code",
   "execution_count": 51,
   "metadata": {},
   "outputs": [
    {
     "data": {
      "image/png": "[encoded data removed]",
      "text/plain": [
       "<Figure size 432x288 with 1 Axes>"
      ]
     },
     "metadata": {
      "needs_background": "light"
     },
     "output_type": "display_data"
    }
   ],
   "source": [
    "ax = py.axes();\n",
    "ax.scatter(x, y);\n",
    "ax.grid(which='both');\n",
    "ax.axhline(y=0, color='k');\n",
    "ax.axvline(x=0, color='k');\n",
    "ax.set_xlabel('Inputs (x)')\n",
    "ax.set_ylabel('Outputs (y)')\n",
    "ax.set_title('Mystery function simulation data');"
   ]
  },
  {
   "cell_type": "markdown",
   "metadata": {},
   "source": [
    "## Question 1: \n",
    "\n",
    "Looking at the graph, write a guess for the parameters if we model this data using the equation $y = a + bx$. What do you estimate for the y-intercept (or offset), $a$, and what do you expect to find for the slope, $b$?"
   ]
  },
  {
   "cell_type": "markdown",
   "metadata": {},
   "source": [
    "Write your estimates here:\n",
    "\n",
    "    a = 1.5\n",
    "    b = -2/2.5\n",
    "    "
   ]
  },
  {
   "cell_type": "markdown",
   "metadata": {},
   "source": [
    "Notice that our parameters $a$ and $b$ must satisfy the following set of equations: (as close as possible...)\n",
    "\n",
    "$$\n",
    "\\begin{align} \n",
    "a + b\\cdot x_1 &= y_1 \\\\\n",
    "a + b\\cdot x_2 &= y_2 \\\\\n",
    "a + b\\cdot x_3 &= y_3 \\\\\n",
    "a + b\\cdot x_4 &= y_4 \\\\\n",
    "\\vdots \\\\\n",
    "a + b\\cdot x_n &= y_n \n",
    "\\end{align}\n",
    "$$\n",
    "\n"
   ]
  },
  {
   "cell_type": "markdown",
   "metadata": {},
   "source": [
    "We can multiply all the $a$-values by 1 to obtain the following:\n",
    "    \n",
    "$$\n",
    "\\begin{align} \n",
    "a\\cdot (1) + b\\cdot x_1 &= y_1 \\\\\n",
    "a\\cdot(1) + b\\cdot x_2 &= y_2 \\\\\n",
    "a\\cdot(1) + b\\cdot x_3 &= y_3 \\\\\n",
    "a\\cdot(1) + b\\cdot x_4 &= y_4 \\\\\n",
    "\\vdots \\\\\n",
    "a\\cdot(1) + b\\cdot x_n &= y_n \\\\\n",
    "\\end{align}\n",
    "$$"
   ]
  },
  {
   "cell_type": "markdown",
   "metadata": {},
   "source": [
    "Equivalently, we can write\n",
    "$$\n",
    "\\begin{pmatrix} \n",
    "1 \\\\\n",
    "1 \\\\\n",
    "1 \\\\\n",
    "1 \\\\\n",
    "\\vdots \\\\\n",
    "1 \\\\\n",
    "\\end{pmatrix} \\begin{pmatrix}\n",
    "a\n",
    "\\end{pmatrix} + \\begin{pmatrix}\n",
    "x_1 \\\\\n",
    "x_2 \\\\\n",
    "x_3 \\\\\n",
    "x_4 \\\\\n",
    "\\vdots \\\\\n",
    "x_n \\\\\n",
    "\\end{pmatrix} \\begin{pmatrix}\n",
    "b\n",
    "\\end{pmatrix}=\\begin{pmatrix}\n",
    "y_1 \\\\\n",
    "y_2 \\\\\n",
    "y_3 \\\\\n",
    "y_4 \\\\\n",
    "\\vdots \\\\\n",
    "y_n \\\\\n",
    "\\end{pmatrix}\n",
    "$$\n",
    "\n",
    "or, equivalently,\n",
    "\n",
    "$$\n",
    "\\begin{pmatrix} \n",
    "1 & x_1 \\\\\n",
    "1 & x_2 \\\\\n",
    "1 & x_3 \\\\\n",
    "1 & x_4 \\\\\n",
    "1 & \\vdots \\\\\n",
    "1 & x_n \\\\\n",
    "\\end{pmatrix} \\begin{pmatrix}\n",
    "a \\\\\n",
    "b \\\\\n",
    "\\end{pmatrix}=\\begin{pmatrix}\n",
    "y_1 \\\\\n",
    "y_2 \\\\\n",
    "y_3 \\\\\n",
    "y_4 \\\\\n",
    "\\vdots \\\\\n",
    "y_n \\\\\n",
    "\\end{pmatrix}\n",
    "$$\n",
    "\n",
    "One way to label the parts of this equation would be\n",
    "$$\\textbf{A}\\vec{m} = \\vec{y}$$\n",
    "\n",
    "where $\\textbf{A}$ is a matrix with a column of ones (for the y-intercept) and your input data, $\\vec{m}$ is your vector of model parameters, and $\\vec{y}$ is your vector of target data."
   ]
  },
  {
   "cell_type": "markdown",
   "metadata": {},
   "source": [
    "To solve the equation $\\textbf{A}\\vec{m} = \\vec{y}$, we need to isolate our model parameters, $\\vec{m}$. If we could take the inverse of $\\textbf{A}$ and apply it to both sides of our equation, we could solve for $\\vec{m}$. $\\textbf{However, matrices that are not square are not invertible.}$"
   ]
  },
  {
   "cell_type": "markdown",
   "metadata": {},
   "source": [
    "To have an inverse, a matrix must be square with linearly independent columns. We can multiply $\\textbf{A}$ by its transpose to create a square matrix (though it will not have an inverse if the columns are not linearly independent). We just need to apply $\\textbf{A}$ transpose ($\\textbf{A}^{T}$) to both sides of our equation.\n",
    "\n",
    "$$\\textbf{A}^{T}\\textbf{A}\\vec{m} = \\textbf{A}^{T}\\vec{y}$$"
   ]
  },
  {
   "cell_type": "code",
   "execution_count": 52,
   "metadata": {},
   "outputs": [
    {
     "name": "stdout",
     "output_type": "stream",
     "text": [
      "Here is our matrix A: \n",
      " [[ 1.         -1.65955991]\n",
      " [ 1.          4.40648987]\n",
      " [ 1.         -9.9977125 ]\n",
      " [ 1.         -3.95334855]\n",
      " [ 1.         -7.06488218]\n",
      " [ 1.         -8.1532281 ]\n",
      " [ 1.         -6.27479577]\n",
      " [ 1.         -3.08878546]\n",
      " [ 1.         -2.06465052]\n",
      " [ 1.          0.77633468]\n",
      " [ 1.         -1.61610971]\n",
      " [ 1.          3.70439001]\n",
      " [ 1.         -5.91095501]\n",
      " [ 1.          7.56234873]\n",
      " [ 1.         -9.45224814]]\n"
     ]
    }
   ],
   "source": [
    "# Let's see what that looks like!\n",
    "ones = np.ones(len(x))\n",
    "A = np.vstack([ones, x]).T\n",
    "print(\"Here is our matrix A: \\n\", A)"
   ]
  },
  {
   "cell_type": "markdown",
   "metadata": {},
   "source": [
    "To obtain the tranpose of $\\textbf{A}$, we swap each row and column element. In other words $\\textbf{A}^T[i,j] = \\textbf{A}[j,i]$ where the first index is the row and the second index is the column."
   ]
  },
  {
   "cell_type": "code",
   "execution_count": 53,
   "metadata": {},
   "outputs": [
    {
     "name": "stdout",
     "output_type": "stream",
     "text": [
      "The transpose of A is given by \n",
      " [[ 1.          1.          1.          1.          1.          1.\n",
      "   1.          1.          1.          1.          1.          1.\n",
      "   1.          1.          1.        ]\n",
      " [-1.65955991  4.40648987 -9.9977125  -3.95334855 -7.06488218 -8.1532281\n",
      "  -6.27479577 -3.08878546 -2.06465052  0.77633468 -1.61610971  3.70439001\n",
      "  -5.91095501  7.56234873 -9.45224814]]\n"
     ]
    }
   ],
   "source": [
    "print(\"The transpose of A is given by \\n\", A.T)"
   ]
  },
  {
   "cell_type": "markdown",
   "metadata": {},
   "source": [
    "## Question 2\n",
    "Note that $\\textbf{A}^T$ has dimensions $2 \\times n$, and $\\textbf{A}$ has dimensions $n \\times 2$. What will the dimensions of $\\textbf{A}^{T}\\textbf{A}$ be?"
   ]
  },
  {
   "cell_type": "markdown",
   "metadata": {},
   "source": [
    "Question 2 Solution:\n",
    "\n",
    "2 x 2\n",
    "\n"
   ]
  },
  {
   "cell_type": "code",
   "execution_count": 54,
   "metadata": {},
   "outputs": [
    {
     "name": "stdout",
     "output_type": "stream",
     "text": [
      "The square matrix we get from AtA is given by: \n",
      " [[ 15.         -42.78671256]\n",
      " [-42.78671256 505.72915388]]\n"
     ]
    }
   ],
   "source": [
    "AtA = np.matmul(A.T, A)\n",
    "print(\"The square matrix we get from AtA is given by: \\n\", AtA)"
   ]
  },
  {
   "cell_type": "markdown",
   "metadata": {},
   "source": [
    "Notice that $\\textbf{A}^{T}\\textbf{A}$ is symmetric about the diagonal. That is, $\\textbf{A}[i,j] = \\textbf{A}[j,i]$ for every index $i$ and $j$.\n",
    "\n",
    "If no scalar multiple of column 1 is equal to column 2, then the columns of this matrix are also $\\textbf{linearly independent}$. "
   ]
  },
  {
   "cell_type": "markdown",
   "metadata": {},
   "source": [
    "## Question 3\n",
    "\n",
    "To recap, our matrix $\\textbf{A}^{T}\\textbf{A}$ needs to be $\\textbf{square}$ and have columns that are $\\textbf{linearly independent}$ to be invertible to solve for $\\vec{m}$. Will $\\textbf{A}^{T}\\textbf{A}$ always be square with linearly independent columns? Explain. (Feel free to do an internet search, and please cite your source.)"
   ]
  },
  {
   "cell_type": "markdown",
   "metadata": {},
   "source": [
    "Question 3 Solution:\n",
    "\n",
    "\n",
    "Let's suppose that the columns of A are linearly independent. Then the columns of A-transpose times A are linearly independent (see Khan Academy video). We also have that AtA is square, and therefore it's invertible.\n",
    "\n",
    "However, we'll run into issues if our matrix A has all the same numbers in column 2, e.g.,\n",
    "\n",
    "$$\\textbf{A} = \n",
    "\\begin{pmatrix} \n",
    "1 & 2 \\\\\n",
    "1 & 2 \\\\\n",
    "1 & 2 \\\\\n",
    "\\end{pmatrix}\n",
    "$$.\n",
    "\n",
    "This will create the following AtA matrix:\n",
    "\n",
    "$$\n",
    "\\begin{pmatrix} \n",
    "3 & 6 \\\\\n",
    "6 & 12\n",
    "\\end{pmatrix}\n",
    "$$\n",
    "\n",
    "Note that the second column is the first column times 2. That is not linearly independent.\n",
    "\n",
    "In summary, AtA will not always be invertible. If one column of A is a multiple of the the other column of A, the same will be true for AtA.\n",
    "\n",
    "\n",
    "Source: Sal Khan of Khan Academy\n",
    "\n",
    "Video: Showing that A-transpose x A is invertible\n",
    "https://www.khanacademy.org/math/linear-algebra/matrix-transformations/matrix-transpose/v/lin-alg-showing-that-a-transpose-x-a-is-invertible\n",
    "\n"
   ]
  },
  {
   "cell_type": "code",
   "execution_count": 55,
   "metadata": {},
   "outputs": [
    {
     "name": "stdout",
     "output_type": "stream",
     "text": [
      "[[1 2]\n",
      " [1 2]\n",
      " [1 2]]\n",
      "[[ 3  6]\n",
      " [ 6 12]]\n"
     ]
    }
   ],
   "source": [
    "a = np.array([[1, 2],\n",
    "             [1,2],\n",
    "             [1,2]])\n",
    "print(a)\n",
    "\n",
    "print(np.matmul(a.T, a))"
   ]
  },
  {
   "cell_type": "markdown",
   "metadata": {},
   "source": [
    "Now, we are close to isolating our parameters $\\vec{m}$. If we can find an inverse for $\\textbf{A}^{T}\\textbf{A}$, then we can find a least squares solution for $\\vec{m}$. In other words,\n",
    "\n",
    "$$\\begin{align}\n",
    "\\textbf{A}^{T}\\textbf{A}\\vec{m} &= \\textbf{A}^{T}\\vec{y} \\\\\n",
    "\\implies (\\textbf{A}^{T}\\textbf{A})^{-1}\\textbf{A}^{T}\\textbf{A}\\vec{m} &= (\\textbf{A}^{T}\\textbf{A})^{-1}\\textbf{A}^{T}\\vec{y} \\\\\n",
    "\\implies \\textbf{I}\\vec{m} &= (\\textbf{A}^{T}\\textbf{A})^{-1}\\textbf{A}^{T}\\vec{y} \\text{    where $\\textbf{I}$ is the identity function} \\\\\n",
    "\\implies \\vec{m} &= (\\textbf{A}^{T}\\textbf{A})^{-1}\\textbf{A}^{T}\\vec{y}\n",
    "\\end{align}\n",
    "$$"
   ]
  },
  {
   "cell_type": "markdown",
   "metadata": {},
   "source": [
    "Please uncomment the code below"
   ]
  },
  {
   "cell_type": "code",
   "execution_count": 56,
   "metadata": {},
   "outputs": [],
   "source": [
    "# Matrix multiplication has the associative property. Therefore, we can group the\n",
    "# terms together to multiply them \n",
    "\n",
    "AtA_inv = np.linalg.inv(AtA)\n",
    "Aty = np.matmul(A.T, y)\n",
    "\n",
    "# The estimated parameters are given by the following:\n",
    "m = np.matmul(AtA_inv, Aty)"
   ]
  },
  {
   "cell_type": "markdown",
   "metadata": {},
   "source": [
    "Please uncomment the code below"
   ]
  },
  {
   "cell_type": "code",
   "execution_count": 57,
   "metadata": {},
   "outputs": [
    {
     "name": "stdout",
     "output_type": "stream",
     "text": [
      "Our least squares parameter estimates are \n",
      " [ 3.85439266 -0.56884698]\n",
      "\n",
      "\n",
      "The true parameters are given by \n",
      " [ 1.7046751  -0.82695198]\n",
      "\n",
      "\n"
     ]
    }
   ],
   "source": [
    "print('Our least squares parameter estimates are \\n', m)\n",
    "print('\\n')\n",
    "print('The true parameters are given by \\n', m_true)\n",
    "print('\\n')"
   ]
  },
  {
   "cell_type": "markdown",
   "metadata": {},
   "source": [
    "## Question 3\n",
    "\n",
    "How does our solution for the parameters compare to the one given by numpy? Hint: you can use $\\textbf{help(np.linalg.lstsq)}$ to see what key word arguments are needed to get the least squares solution from the linear algebra tools."
   ]
  },
  {
   "cell_type": "code",
   "execution_count": 58,
   "metadata": {},
   "outputs": [
    {
     "name": "stdout",
     "output_type": "stream",
     "text": [
      "[ 3.85439266 -0.56884698]\n"
     ]
    }
   ],
   "source": [
    "m_np = np.linalg.lstsq(A, y, rcond = None)[0]\n",
    "print(m_np)\n",
    "\n",
    "\n",
    "\n",
    "\n"
   ]
  },
  {
   "cell_type": "code",
   "execution_count": 59,
   "metadata": {},
   "outputs": [],
   "source": [
    "#help(np.linalg.lstsq)"
   ]
  },
  {
   "cell_type": "markdown",
   "metadata": {},
   "source": [
    "## Question 4\n",
    "\n",
    "How does the number of points affect how close the estimated parameters are to the true parameters? Please go back to the top of the program and change the number of points to a large value (greater than or equal to 15) and a small value. What do you notice?"
   ]
  },
  {
   "cell_type": "code",
   "execution_count": null,
   "metadata": {},
   "outputs": [],
   "source": []
  },
  {
   "cell_type": "markdown",
   "metadata": {},
   "source": [
    "## Enrichment section"
   ]
  },
  {
   "cell_type": "markdown",
   "metadata": {},
   "source": [
    "This section discusses\n",
    "* changing your cost function to address skew in the noise and \n",
    "* how to speed up your programs by using matrix multiplication instead of for-loops."
   ]
  },
  {
   "cell_type": "code",
   "execution_count": 42,
   "metadata": {},
   "outputs": [],
   "source": [
    "import time"
   ]
  },
  {
   "cell_type": "markdown",
   "metadata": {},
   "source": [
    "The time module is helpful for planning out how much time a program will take to run and optimizing your code. You might need to install this from Anaconda or from the terminal (MacOS) or console (Windows) using\n",
    "\n",
    "$\\textbf{conda install time}$"
   ]
  },
  {
   "cell_type": "markdown",
   "metadata": {},
   "source": [
    "## Question 5 \n",
    "Our simulated data shows a relationship with Gaussian (or normally-distributed noise). What happens if the noise is skewed? Try setting \n",
    "\n",
    "noise = np.random.gumbel(mu, sd, n)\n",
    "\n",
    "What happens to the solution? "
   ]
  },
  {
   "cell_type": "code",
   "execution_count": 43,
   "metadata": {},
   "outputs": [],
   "source": [
    "#help(np.random)"
   ]
  },
  {
   "cell_type": "code",
   "execution_count": 44,
   "metadata": {},
   "outputs": [],
   "source": [
    "N = 10000\n",
    "x1 = np.random.normal(0, 1, N)\n",
    "x2 = np.random.gumbel(0, 1, N)"
   ]
  },
  {
   "cell_type": "code",
   "execution_count": 45,
   "metadata": {},
   "outputs": [
    {
     "data": {
      "image/png": "[encoded data removed]",
      "text/plain": [
       "<Figure size 432x288 with 1 Axes>"
      ]
     },
     "metadata": {
      "needs_background": "light"
     },
     "output_type": "display_data"
    }
   ],
   "source": [
    "ax = py.axes()\n",
    "bins = np.arange(-4, 4, 0.2)\n",
    "myfontsize = 12\n",
    "ax.hist(x = x1, bins = bins, alpha = 0.5, label = 'Gaussian');\n",
    "ax.hist(x = x2, bins = bins, alpha = 0.5, label = 'Gumbel');\n",
    "ax.set_title(\"Comparing different noise distributions\")\n",
    "ax.set_xlabel(\"Noise\")\n",
    "ax.set_ylabel(\"Frequency\")\n",
    "ax.set_xlim(-5, 5)\n",
    "ax.legend(frameon = False, fontsize = myfontsize);\n"
   ]
  },
  {
   "cell_type": "markdown",
   "metadata": {},
   "source": [
    "## Guiding question for this section\n",
    "* How might we fix bias in our model when working with skewed data?"
   ]
  },
  {
   "cell_type": "markdown",
   "metadata": {},
   "source": [
    "When we are using a least squares solution, what equation are we optimizing? Take a look at the documentation for this function to find out:"
   ]
  },
  {
   "cell_type": "code",
   "execution_count": null,
   "metadata": {},
   "outputs": [],
   "source": [
    "#help(np.linalg.lstsq)"
   ]
  },
  {
   "cell_type": "markdown",
   "metadata": {},
   "source": [
    "Minimizing the sum of the squares is not the only way to find an optimal solution. If you have outliers, the squared error for those outlying values will be very large. Therefore, your solution will pull the linear fit towards them to minimize the square of their errors."
   ]
  },
  {
   "cell_type": "markdown",
   "metadata": {},
   "source": [
    "Instead of minimizing the equation \n",
    "$$ J(m) = \\Sigma_{i=1}^{n}(\\hat{y}_i - {y}_i)^2, $$\n",
    "we can minimize\n",
    "$$ J(m) = \\Sigma_{i=1}^{n}|\\hat{y}_i - {y}_i|.$$"
   ]
  },
  {
   "cell_type": "code",
   "execution_count": 84,
   "metadata": {},
   "outputs": [
    {
     "name": "stdout",
     "output_type": "stream",
     "text": [
      "The minimum cost for parameters \n",
      " [3.58858859] [-0.47547548]\n",
      "The true parameters are \n",
      " [ 1.7046751  -0.82695198]\n",
      "Time in seconds for this process: 5.774454832077026\n"
     ]
    }
   ],
   "source": [
    "start = time.time()\n",
    "\n",
    "m1 = np.linspace(-5, 5, 1000)\n",
    "m2 = np.linspace(-5, 5, 1000)\n",
    "\n",
    "# Initialize a two-dimensional matrix (one dimension per parameter)\n",
    "cost = np.zeros((len(m1), len(m2)))\n",
    "\n",
    "# Reassign the zeros to NaNs so that you don't accidentally end up\n",
    "# with a zero if there is a mistake in the code\n",
    "cost[:,:] = np.nan\n",
    "\n",
    "for i in np.arange(len(m1)):\n",
    "    for j in np.arange(len(m2)):\n",
    "        y_hat = m1[i] + m2[j]*x\n",
    "        cost[i,j] = sum(abs(y_hat - y))\n",
    "\n",
    "idx_m1, idx_m2 = np.where(cost==cost.min())\n",
    "\n",
    "print('The minimum cost for parameters \\n', m1[idx_m1], m2[idx_m2])\n",
    "\n",
    "print('The true parameters are \\n', m_true)\n",
    "        \n",
    "end = time.time()\n",
    "\n",
    "print(\"Time in seconds for this process:\", end - start)"
   ]
  },
  {
   "cell_type": "code",
   "execution_count": 85,
   "metadata": {},
   "outputs": [
    {
     "data": {
      "image/png": "[encoded data removed]",
      "text/plain": [
       "<Figure size 432x288 with 2 Axes>"
      ]
     },
     "metadata": {
      "needs_background": "light"
     },
     "output_type": "display_data"
    }
   ],
   "source": [
    "# Let's plot it using Jim's cost function code from Monday\n",
    "myfontsize = 14\n",
    "fig = py.figure()\n",
    "ax = py.axes()\n",
    "im = ax.imshow(cost)\n",
    "ax.plot(idx_m2, idx_m1, \"o\", color = \"red\")\n",
    "fig.colorbar(im, ax = ax)\n",
    "ax.set_title(\"Cost function visualization\", fontsize = myfontsize + 2);"
   ]
  },
  {
   "cell_type": "markdown",
   "metadata": {},
   "source": [
    "## Using matrices instead of for-loops"
   ]
  },
  {
   "cell_type": "markdown",
   "metadata": {},
   "source": [
    "We can use the idea that if we multiply $\\textbf{A}$ by our parameter estimate $\\hat{m}$, we obtain our target estimate $\\hat{y}$. That is, \n",
    "\n",
    "$$\\textbf{A}\\hat{m} = \\hat{y}.$$ \n",
    "\n",
    "If we want to test many parameter estimates $\\hat{m_1}, ..., \\hat{m_k}$, we can multiply $\\textbf{A}$ by the following:\n",
    "$$\\textbf{A}\\begin{bmatrix}\\hat{m_1}, \\hat{m_2}, ..., \\hat{m_k} \\end{bmatrix}$$\n",
    "where $\\begin{bmatrix}\\hat{m_1}, \\hat{m_2}, ..., \\hat{m_k}\\end{bmatrix}$ is a matrix with each set of parameters as each of the columns. Then, we have\n",
    "\n",
    "$$\n",
    "\\begin{align}\n",
    "\\textbf{A}\n",
    "\\begin{bmatrix}\\hat{m_1}, \\hat{m_2}, ..., \\hat{m_k} \\end{bmatrix} &= \n",
    "\\begin{bmatrix}\\textbf{A}\\hat{m_1}, \\textbf{A}\\hat{m_2}, ..., \\textbf{A}\\hat{m_k}\\end{bmatrix} \\\\\n",
    "&= \\begin{bmatrix}\\hat{y_1}, \\hat{y_2}, ..., \\hat{y_k} \\end{bmatrix}\n",
    "\\end{align}\n",
    "$$\n",
    "\n",
    "In this equation, each column $\\hat{y_i}$ of the resulting matrix is an estimate for the data values. We can use these to see which one is best. That is if we take the square of each element in $\\hat{y_i}$ and sum them up, we will have the sum of the squares. The column with the smallest sum of the squares will be the least squares solution."
   ]
  },
  {
   "cell_type": "code",
   "execution_count": 86,
   "metadata": {},
   "outputs": [
    {
     "name": "stdout",
     "output_type": "stream",
     "text": [
      "(2, 1000000)\n",
      "(15, 1000000)\n",
      "(15, 1)\n",
      "The L1 solution (from minimizing the sum of the absolute values of the residuals) is given by \n",
      " [ 3.58858859 -0.47547548]\n",
      "\n",
      "\n",
      "The L2 solution (from minimizing the sum of the squares of the residuals) is given by \n",
      " [ 3.85885886 -0.56556557]\n",
      "\n",
      "\n",
      "The true parameters were \n",
      " [ 1.7046751  -0.82695198]\n",
      "\n",
      "\n",
      "Time in seconds for this process: 1.7848541736602783\n"
     ]
    }
   ],
   "source": [
    "# Start timing our method\n",
    "start = time.time()\n",
    "\n",
    "# Create a meshgrid of our data (see help(np.meshgrid))\n",
    "M1, M2 = np.meshgrid(m1, m2)\n",
    "\n",
    "# Reshape our meshgrid matrices into long vectors to match up every pair of parameters in our grid search\n",
    "M = np.vstack((np.reshape(M1, -1), np.reshape(M2, -1)))\n",
    "print(M.shape)\n",
    "\n",
    "# Matrix multiply our matrix A with our matrix M which stores a pair of parameters to test in every column\n",
    "Y_hat = np.matmul(A, M)\n",
    "\n",
    "# The resulting matrix has predictions for y corresponding to every pair of parameters we tested\n",
    "print(Y_hat.shape)\n",
    "\n",
    "# Make a matrix where each column is the target vector (repeated for every column)\n",
    "\n",
    "# First, let's make our size (n,) array into a size (n, 1) matrix (column vector)\n",
    "y_vec = np.array([y]).T\n",
    "print(y_vec.shape)\n",
    "\n",
    "# Then, repeat the column vector over and over again to have as many columns as Y_hat (so we can subtract them)\n",
    "Y = np.repeat(y_vec, M.shape[1], axis = 1)\n",
    "\n",
    "# Compute the residuals\n",
    "resid = Y_hat - Y\n",
    "\n",
    "# Method 1: minimize the sum of the absolute value of the residuals\n",
    "abs_vals = np.sum(np.abs(resid), 0)\n",
    "idx1 = np.argmin(abs_vals)\n",
    "\n",
    "# Print our results\n",
    "print(\"The L1 solution (from minimizing the sum of the absolute values of the residuals) is given by \\n\", M[:,idx1])\n",
    "print(\"\\n\")\n",
    "\n",
    "# Method 2: minimize the sum of the squares of the residuals (least squares)\n",
    "squares = np.sum(resid**2, 0)\n",
    "idx2 = np.argmin(squares)\n",
    "\n",
    "# Print our results\n",
    "print(\"The L2 solution (from minimizing the sum of the squares of the residuals) is given by \\n\", M[:,idx2])\n",
    "print(\"\\n\")\n",
    "\n",
    "# Compare to the true parameters\n",
    "print(\"The true parameters were \\n\", m_true)\n",
    "print(\"\\n\")\n",
    "\n",
    "end = time.time()\n",
    "# Print the time\n",
    "print(\"Time in seconds for this process:\", end - start)"
   ]
  },
  {
   "cell_type": "code",
   "execution_count": 87,
   "metadata": {},
   "outputs": [
    {
     "data": {
      "image/png": "[encoded data removed]",
      "text/plain": [
       "<Figure size 432x288 with 1 Axes>"
      ]
     },
     "metadata": {
      "needs_background": "light"
     },
     "output_type": "display_data"
    }
   ],
   "source": [
    "# Create a linear space for plotting\n",
    "xx = np.linspace(-10, 10, 1000)\n",
    "\n",
    "# Truth\n",
    "yy_true = m_true[0] + m_true[1]*xx\n",
    "\n",
    "# Least squares solution\n",
    "yy_lstsq = m_np[0] + m_np[1]*xx\n",
    "\n",
    "# Least absolute value solution\n",
    "m_abs = M[:,idx1]\n",
    "yy_abs = m_abs[0] + m_abs[1]*xx\n",
    "\n",
    "# Plot\n",
    "ax = py.axes();\n",
    "ax.scatter(x, y);\n",
    "ax.plot(xx, yy_true, label = \"Truth\")\n",
    "ax.plot(xx, yy_lstsq, label = \"Least squares\")\n",
    "ax.plot(xx, yy_abs, label = \"Least absolute value\")\n",
    "ax.grid(which='both');\n",
    "ax.axhline(y=0, color='k');\n",
    "ax.axvline(x=0, color='k');\n",
    "ax.set_xlabel('Inputs (x)')\n",
    "ax.set_ylabel('Outputs (y)')\n",
    "ax.legend()\n",
    "ax.set_title('Mystery function simulation data');"
   ]
  },
  {
   "cell_type": "markdown",
   "metadata": {},
   "source": [
    "## Question 6\n",
    "How does the time compare between the for-loop method and the matrix method?\n",
    "\n"
   ]
  },
  {
   "cell_type": "markdown",
   "metadata": {},
   "source": [
    "Question 6 response:\n",
    "    \n",
    "    \n",
    "    \n",
    "    \n",
    "    "
   ]
  },
  {
   "cell_type": "markdown",
   "metadata": {},
   "source": [
    "## Question 7\n",
    "\n",
    "* How might you further improve your parameter search without fully searching the grid?"
   ]
  },
  {
   "cell_type": "markdown",
   "metadata": {},
   "source": [
    "Question 7 response here:\n",
    "\n",
    "You might do a search with a large step at first and then make your step size smaller as your get\n",
    "\n",
    "\n"
   ]
  },
  {
   "cell_type": "markdown",
   "metadata": {},
   "source": [
    "## Question 8\n",
    "* How might we fix bias in our model when working with skewed data?"
   ]
  },
  {
   "cell_type": "markdown",
   "metadata": {},
   "source": [
    "Summary: \n",
    "\n",
    "\n",
    "\n",
    "\n",
    "\n"
   ]
  }
 ],
 "metadata": {
  "kernelspec": {
   "display_name": "Python 3 (ipykernel)",
   "language": "python",
   "name": "python3"
  },
  "language_info": {
   "codemirror_mode": {
    "name": "ipython",
    "version": 3
   },
   "file_extension": ".py",
   "mimetype": "text/x-python",
   "name": "python",
   "nbconvert_exporter": "python",
   "pygments_lexer": "ipython3",
   "version": "3.9.7"
  }
 },
 "nbformat": 4,
 "nbformat_minor": 2
}
